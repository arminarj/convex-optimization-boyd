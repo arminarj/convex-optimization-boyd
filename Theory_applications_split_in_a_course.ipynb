{
  "nbformat": 4,
  "nbformat_minor": 0,
  "metadata": {
    "colab": {
      "name": "Theory applications split in a course",
      "provenance": [],
      "collapsed_sections": [],
      "authorship_tag": "ABX9TyPx4HVjfO5Xx/tYX8ZHZUQc",
      "include_colab_link": true
    },
    "kernelspec": {
      "name": "python3",
      "display_name": "Python 3"
    }
  },
  "cells": [
    {
      "cell_type": "markdown",
      "metadata": {
        "id": "view-in-github",
        "colab_type": "text"
      },
      "source": [
        "<a href=\"https://colab.research.google.com/github/arminarj/convex-optimization-boyd/blob/master/Theory_applications_split_in_a_course.ipynb\" target=\"_parent\"><img src=\"https://colab.research.google.com/assets/colab-badge.svg\" alt=\"Open In Colab\"/></a>"
      ]
    },
    {
      "cell_type": "code",
      "metadata": {
        "id": "9Y-nt-Om3Gxr",
        "colab_type": "code",
        "outputId": "4cc24b30-57c7-4f41-fb6c-672732b0bc4d",
        "colab": {
          "base_uri": "https://localhost:8080/",
          "height": 346
        }
      },
      "source": [
        "!pip install cvxpy==1.1.0a4 -q\n",
        "!pip install diffcp -q"
      ],
      "execution_count": 0,
      "outputs": [
        {
          "output_type": "stream",
          "text": [
            "\u001b[?25l\r\u001b[K     |▎                               | 10kB 20.8MB/s eta 0:00:01\r\u001b[K     |▋                               | 20kB 1.8MB/s eta 0:00:01\r\u001b[K     |█                               | 30kB 2.3MB/s eta 0:00:01\r\u001b[K     |█▎                              | 40kB 2.6MB/s eta 0:00:01\r\u001b[K     |█▋                              | 51kB 2.1MB/s eta 0:00:01\r\u001b[K     |██                              | 61kB 2.3MB/s eta 0:00:01\r\u001b[K     |██▎                             | 71kB 2.6MB/s eta 0:00:01\r\u001b[K     |██▋                             | 81kB 2.8MB/s eta 0:00:01\r\u001b[K     |███                             | 92kB 3.0MB/s eta 0:00:01\r\u001b[K     |███▎                            | 102kB 2.9MB/s eta 0:00:01\r\u001b[K     |███▋                            | 112kB 2.9MB/s eta 0:00:01\r\u001b[K     |████                            | 122kB 2.9MB/s eta 0:00:01\r\u001b[K     |████▎                           | 133kB 2.9MB/s eta 0:00:01\r\u001b[K     |████▋                           | 143kB 2.9MB/s eta 0:00:01\r\u001b[K     |█████                           | 153kB 2.9MB/s eta 0:00:01\r\u001b[K     |█████▎                          | 163kB 2.9MB/s eta 0:00:01\r\u001b[K     |█████▋                          | 174kB 2.9MB/s eta 0:00:01\r\u001b[K     |██████                          | 184kB 2.9MB/s eta 0:00:01\r\u001b[K     |██████▎                         | 194kB 2.9MB/s eta 0:00:01\r\u001b[K     |██████▋                         | 204kB 2.9MB/s eta 0:00:01\r\u001b[K     |███████                         | 215kB 2.9MB/s eta 0:00:01\r\u001b[K     |███████▎                        | 225kB 2.9MB/s eta 0:00:01\r\u001b[K     |███████▋                        | 235kB 2.9MB/s eta 0:00:01\r\u001b[K     |████████                        | 245kB 2.9MB/s eta 0:00:01\r\u001b[K     |████████▎                       | 256kB 2.9MB/s eta 0:00:01\r\u001b[K     |████████▋                       | 266kB 2.9MB/s eta 0:00:01\r\u001b[K     |█████████                       | 276kB 2.9MB/s eta 0:00:01\r\u001b[K     |█████████▎                      | 286kB 2.9MB/s eta 0:00:01\r\u001b[K     |█████████▋                      | 296kB 2.9MB/s eta 0:00:01\r\u001b[K     |██████████                      | 307kB 2.9MB/s eta 0:00:01\r\u001b[K     |██████████▎                     | 317kB 2.9MB/s eta 0:00:01\r\u001b[K     |██████████▋                     | 327kB 2.9MB/s eta 0:00:01\r\u001b[K     |███████████                     | 337kB 2.9MB/s eta 0:00:01\r\u001b[K     |███████████▎                    | 348kB 2.9MB/s eta 0:00:01\r\u001b[K     |███████████▋                    | 358kB 2.9MB/s eta 0:00:01\r\u001b[K     |████████████                    | 368kB 2.9MB/s eta 0:00:01\r\u001b[K     |████████████▎                   | 378kB 2.9MB/s eta 0:00:01\r\u001b[K     |████████████▋                   | 389kB 2.9MB/s eta 0:00:01\r\u001b[K     |█████████████                   | 399kB 2.9MB/s eta 0:00:01\r\u001b[K     |█████████████▎                  | 409kB 2.9MB/s eta 0:00:01\r\u001b[K     |█████████████▋                  | 419kB 2.9MB/s eta 0:00:01\r\u001b[K     |██████████████                  | 430kB 2.9MB/s eta 0:00:01\r\u001b[K     |██████████████▎                 | 440kB 2.9MB/s eta 0:00:01\r\u001b[K     |██████████████▋                 | 450kB 2.9MB/s eta 0:00:01\r\u001b[K     |███████████████                 | 460kB 2.9MB/s eta 0:00:01\r\u001b[K     |███████████████▎                | 471kB 2.9MB/s eta 0:00:01\r\u001b[K     |███████████████▋                | 481kB 2.9MB/s eta 0:00:01\r\u001b[K     |████████████████                | 491kB 2.9MB/s eta 0:00:01\r\u001b[K     |████████████████▎               | 501kB 2.9MB/s eta 0:00:01\r\u001b[K     |████████████████▋               | 512kB 2.9MB/s eta 0:00:01\r\u001b[K     |█████████████████               | 522kB 2.9MB/s eta 0:00:01\r\u001b[K     |█████████████████▎              | 532kB 2.9MB/s eta 0:00:01\r\u001b[K     |█████████████████▋              | 542kB 2.9MB/s eta 0:00:01\r\u001b[K     |██████████████████              | 552kB 2.9MB/s eta 0:00:01\r\u001b[K     |██████████████████▎             | 563kB 2.9MB/s eta 0:00:01\r\u001b[K     |██████████████████▌             | 573kB 2.9MB/s eta 0:00:01\r\u001b[K     |██████████████████▉             | 583kB 2.9MB/s eta 0:00:01\r\u001b[K     |███████████████████▏            | 593kB 2.9MB/s eta 0:00:01\r\u001b[K     |███████████████████▌            | 604kB 2.9MB/s eta 0:00:01\r\u001b[K     |███████████████████▉            | 614kB 2.9MB/s eta 0:00:01\r\u001b[K     |████████████████████▏           | 624kB 2.9MB/s eta 0:00:01\r\u001b[K     |████████████████████▌           | 634kB 2.9MB/s eta 0:00:01\r\u001b[K     |████████████████████▉           | 645kB 2.9MB/s eta 0:00:01\r\u001b[K     |█████████████████████▏          | 655kB 2.9MB/s eta 0:00:01\r\u001b[K     |█████████████████████▌          | 665kB 2.9MB/s eta 0:00:01\r\u001b[K     |█████████████████████▉          | 675kB 2.9MB/s eta 0:00:01\r\u001b[K     |██████████████████████▏         | 686kB 2.9MB/s eta 0:00:01\r\u001b[K     |██████████████████████▌         | 696kB 2.9MB/s eta 0:00:01\r\u001b[K     |██████████████████████▉         | 706kB 2.9MB/s eta 0:00:01\r\u001b[K     |███████████████████████▏        | 716kB 2.9MB/s eta 0:00:01\r\u001b[K     |███████████████████████▌        | 727kB 2.9MB/s eta 0:00:01\r\u001b[K     |███████████████████████▉        | 737kB 2.9MB/s eta 0:00:01\r\u001b[K     |████████████████████████▏       | 747kB 2.9MB/s eta 0:00:01\r\u001b[K     |████████████████████████▌       | 757kB 2.9MB/s eta 0:00:01\r\u001b[K     |████████████████████████▉       | 768kB 2.9MB/s eta 0:00:01\r\u001b[K     |█████████████████████████▏      | 778kB 2.9MB/s eta 0:00:01\r\u001b[K     |█████████████████████████▌      | 788kB 2.9MB/s eta 0:00:01\r\u001b[K     |█████████████████████████▉      | 798kB 2.9MB/s eta 0:00:01\r\u001b[K     |██████████████████████████▏     | 808kB 2.9MB/s eta 0:00:01\r\u001b[K     |██████████████████████████▌     | 819kB 2.9MB/s eta 0:00:01\r\u001b[K     |██████████████████████████▉     | 829kB 2.9MB/s eta 0:00:01\r\u001b[K     |███████████████████████████▏    | 839kB 2.9MB/s eta 0:00:01\r\u001b[K     |███████████████████████████▌    | 849kB 2.9MB/s eta 0:00:01\r\u001b[K     |███████████████████████████▉    | 860kB 2.9MB/s eta 0:00:01\r\u001b[K     |████████████████████████████▏   | 870kB 2.9MB/s eta 0:00:01\r\u001b[K     |████████████████████████████▌   | 880kB 2.9MB/s eta 0:00:01\r\u001b[K     |████████████████████████████▉   | 890kB 2.9MB/s eta 0:00:01\r\u001b[K     |█████████████████████████████▏  | 901kB 2.9MB/s eta 0:00:01\r\u001b[K     |█████████████████████████████▌  | 911kB 2.9MB/s eta 0:00:01\r\u001b[K     |█████████████████████████████▉  | 921kB 2.9MB/s eta 0:00:01\r\u001b[K     |██████████████████████████████▏ | 931kB 2.9MB/s eta 0:00:01\r\u001b[K     |██████████████████████████████▌ | 942kB 2.9MB/s eta 0:00:01\r\u001b[K     |██████████████████████████████▉ | 952kB 2.9MB/s eta 0:00:01\r\u001b[K     |███████████████████████████████▏| 962kB 2.9MB/s eta 0:00:01\r\u001b[K     |███████████████████████████████▌| 972kB 2.9MB/s eta 0:00:01\r\u001b[K     |███████████████████████████████▉| 983kB 2.9MB/s eta 0:00:01\r\u001b[K     |████████████████████████████████| 993kB 2.9MB/s \n",
            "\u001b[?25h  Installing build dependencies ... \u001b[?25l\u001b[?25hdone\n",
            "  Getting requirements to build wheel ... \u001b[?25l\u001b[?25hdone\n",
            "    Preparing wheel metadata ... \u001b[?25l\u001b[?25hdone\n",
            "  Building wheel for cvxpy (PEP 517) ... \u001b[?25l\u001b[?25hdone\n",
            "\u001b[K     |████████████████████████████████| 2.2MB 2.7MB/s \n",
            "\u001b[?25h  Building wheel for diffcp (setup.py) ... \u001b[?25l\u001b[?25hdone\n"
          ],
          "name": "stdout"
        }
      ]
    },
    {
      "cell_type": "markdown",
      "metadata": {
        "id": "zZH7_nGd3Odj",
        "colab_type": "text"
      },
      "source": [
        "# Theory-applications split in a course"
      ]
    },
    {
      "cell_type": "markdown",
      "metadata": {
        "id": "19EDjUFYDH6Z",
        "colab_type": "text"
      },
      "source": [
        "for defining the objective we want an objective that maximize elements of a vector while minimizing the  distance between the elements. \n",
        "\n",
        "I have use Norm1 as the described norm with lambda = 0.1 as the reguralization parameter."
      ]
    },
    {
      "cell_type": "code",
      "metadata": {
        "id": "VK0pxaBy3NlP",
        "colab_type": "code",
        "outputId": "f537cf09-44cf-4231-b9cd-db886997613c",
        "colab": {
          "base_uri": "https://localhost:8080/",
          "height": 735
        }
      },
      "source": [
        "import cvxpy as cp\n",
        "import numpy as np\n",
        "\n",
        "n = 20\n",
        "number_group = 3\n",
        "\n",
        "a = 2\n",
        "b = 3\n",
        "lambda_ = 0.1\n",
        "\n",
        "teta = np.array([0.05, 0.1, 0.3]).reshape(-1, 1)\n",
        "alfa = np.array([-0.1, 0.8, -0.3]).reshape(-1, 1)\n",
        "beta = np.array([1.4, -0.3, 0.7]).reshape(-1, 1)\n",
        "\n",
        "A = cp.Variable(n)\n",
        "T = cp.Variable(n)\n",
        "S  = cp.Variable((number_group, n))\n",
        "\n",
        "obj_function =  cp.sum(S[:, -1]) -  lambda_ * cp.norm(S[:, -1], 1)  ## Adding norm \n",
        "\n",
        "obj = cp.Maximize(obj_function)\n",
        "\n",
        "constraints  = [\n",
        "                T + A == 1,\n",
        "                T >= 0, \n",
        "                A >= 0,\n",
        "                S[:, 0] ==  0,\n",
        "]\n",
        "\n",
        "for i in range(number_group):\n",
        "        constraints.append(S[i, 1:] == (1 - teta[i])*S[i, :-1] + teta[i] * (alfa[i] * T[1:] + beta[i]*A[1:]).T,\n",
        ")\n",
        "\n",
        "for i in range(n):\n",
        "        constraints.append(\n",
        "            cp.sum(A[:i]) <= a * cp.pos( cp.sum(T[:i]) - b)\n",
        "            )\n",
        "\n",
        "\n",
        "prob = cp.Problem(obj, constraints)\n",
        "\n",
        "print(\"prob is DCP:\", prob.is_dcp())\n",
        "\n",
        "try:\n",
        "    prob.solve()\n",
        "    print(\"status:  \", prob.status)\n",
        "    print(\"optimal value:   \", prob.value)\n",
        "\n",
        "except Exception as e:\n",
        "    print(e)\n"
      ],
      "execution_count": 0,
      "outputs": [
        {
          "output_type": "stream",
          "text": [
            "prob is DCP: False\n",
            "Problem does not follow DCP rules. Specifically:\n",
            "The following constraints are not DCP:\n",
            "Sum(var2004[0], None, False) <= 2.0 @ maximum(Sum(var2005[0], None, False) + -3.0, 0.0) , because the following subexpressions are not:\n",
            "|--  Sum(var2004[0], None, False) <= 2.0 @ maximum(Sum(var2005[0], None, False) + -3.0, 0.0)\n",
            "Sum(var2004[0:2], None, False) <= 2.0 @ maximum(Sum(var2005[0:2], None, False) + -3.0, 0.0) , because the following subexpressions are not:\n",
            "|--  Sum(var2004[0:2], None, False) <= 2.0 @ maximum(Sum(var2005[0:2], None, False) + -3.0, 0.0)\n",
            "Sum(var2004[0:3], None, False) <= 2.0 @ maximum(Sum(var2005[0:3], None, False) + -3.0, 0.0) , because the following subexpressions are not:\n",
            "|--  Sum(var2004[0:3], None, False) <= 2.0 @ maximum(Sum(var2005[0:3], None, False) + -3.0, 0.0)\n",
            "Sum(var2004[0:4], None, False) <= 2.0 @ maximum(Sum(var2005[0:4], None, False) + -3.0, 0.0) , because the following subexpressions are not:\n",
            "|--  Sum(var2004[0:4], None, False) <= 2.0 @ maximum(Sum(var2005[0:4], None, False) + -3.0, 0.0)\n",
            "Sum(var2004[0:5], None, False) <= 2.0 @ maximum(Sum(var2005[0:5], None, False) + -3.0, 0.0) , because the following subexpressions are not:\n",
            "|--  Sum(var2004[0:5], None, False) <= 2.0 @ maximum(Sum(var2005[0:5], None, False) + -3.0, 0.0)\n",
            "Sum(var2004[0:6], None, False) <= 2.0 @ maximum(Sum(var2005[0:6], None, False) + -3.0, 0.0) , because the following subexpressions are not:\n",
            "|--  Sum(var2004[0:6], None, False) <= 2.0 @ maximum(Sum(var2005[0:6], None, False) + -3.0, 0.0)\n",
            "Sum(var2004[0:7], None, False) <= 2.0 @ maximum(Sum(var2005[0:7], None, False) + -3.0, 0.0) , because the following subexpressions are not:\n",
            "|--  Sum(var2004[0:7], None, False) <= 2.0 @ maximum(Sum(var2005[0:7], None, False) + -3.0, 0.0)\n",
            "Sum(var2004[0:8], None, False) <= 2.0 @ maximum(Sum(var2005[0:8], None, False) + -3.0, 0.0) , because the following subexpressions are not:\n",
            "|--  Sum(var2004[0:8], None, False) <= 2.0 @ maximum(Sum(var2005[0:8], None, False) + -3.0, 0.0)\n",
            "Sum(var2004[0:9], None, False) <= 2.0 @ maximum(Sum(var2005[0:9], None, False) + -3.0, 0.0) , because the following subexpressions are not:\n",
            "|--  Sum(var2004[0:9], None, False) <= 2.0 @ maximum(Sum(var2005[0:9], None, False) + -3.0, 0.0)\n",
            "Sum(var2004[0:10], None, False) <= 2.0 @ maximum(Sum(var2005[0:10], None, False) + -3.0, 0.0) , because the following subexpressions are not:\n",
            "|--  Sum(var2004[0:10], None, False) <= 2.0 @ maximum(Sum(var2005[0:10], None, False) + -3.0, 0.0)\n",
            "Sum(var2004[0:11], None, False) <= 2.0 @ maximum(Sum(var2005[0:11], None, False) + -3.0, 0.0) , because the following subexpressions are not:\n",
            "|--  Sum(var2004[0:11], None, False) <= 2.0 @ maximum(Sum(var2005[0:11], None, False) + -3.0, 0.0)\n",
            "Sum(var2004[0:12], None, False) <= 2.0 @ maximum(Sum(var2005[0:12], None, False) + -3.0, 0.0) , because the following subexpressions are not:\n",
            "|--  Sum(var2004[0:12], None, False) <= 2.0 @ maximum(Sum(var2005[0:12], None, False) + -3.0, 0.0)\n",
            "Sum(var2004[0:13], None, False) <= 2.0 @ maximum(Sum(var2005[0:13], None, False) + -3.0, 0.0) , because the following subexpressions are not:\n",
            "|--  Sum(var2004[0:13], None, False) <= 2.0 @ maximum(Sum(var2005[0:13], None, False) + -3.0, 0.0)\n",
            "Sum(var2004[0:14], None, False) <= 2.0 @ maximum(Sum(var2005[0:14], None, False) + -3.0, 0.0) , because the following subexpressions are not:\n",
            "|--  Sum(var2004[0:14], None, False) <= 2.0 @ maximum(Sum(var2005[0:14], None, False) + -3.0, 0.0)\n",
            "Sum(var2004[0:15], None, False) <= 2.0 @ maximum(Sum(var2005[0:15], None, False) + -3.0, 0.0) , because the following subexpressions are not:\n",
            "|--  Sum(var2004[0:15], None, False) <= 2.0 @ maximum(Sum(var2005[0:15], None, False) + -3.0, 0.0)\n",
            "Sum(var2004[0:16], None, False) <= 2.0 @ maximum(Sum(var2005[0:16], None, False) + -3.0, 0.0) , because the following subexpressions are not:\n",
            "|--  Sum(var2004[0:16], None, False) <= 2.0 @ maximum(Sum(var2005[0:16], None, False) + -3.0, 0.0)\n",
            "Sum(var2004[0:17], None, False) <= 2.0 @ maximum(Sum(var2005[0:17], None, False) + -3.0, 0.0) , because the following subexpressions are not:\n",
            "|--  Sum(var2004[0:17], None, False) <= 2.0 @ maximum(Sum(var2005[0:17], None, False) + -3.0, 0.0)\n",
            "Sum(var2004[0:18], None, False) <= 2.0 @ maximum(Sum(var2005[0:18], None, False) + -3.0, 0.0) , because the following subexpressions are not:\n",
            "|--  Sum(var2004[0:18], None, False) <= 2.0 @ maximum(Sum(var2005[0:18], None, False) + -3.0, 0.0)\n",
            "Sum(var2004[0:19], None, False) <= 2.0 @ maximum(Sum(var2005[0:19], None, False) + -3.0, 0.0) , because the following subexpressions are not:\n",
            "|--  Sum(var2004[0:19], None, False) <= 2.0 @ maximum(Sum(var2005[0:19], None, False) + -3.0, 0.0)\n"
          ],
          "name": "stdout"
        }
      ]
    },
    {
      "cell_type": "code",
      "metadata": {
        "id": "7f9O58u474oY",
        "colab_type": "code",
        "outputId": "d841888e-1081-41c9-f4d7-5d774bcc47fe",
        "colab": {
          "base_uri": "https://localhost:8080/",
          "height": 74
        }
      },
      "source": [
        "(1 - teta[0])*S[0, :-1]"
      ],
      "execution_count": 0,
      "outputs": [
        {
          "output_type": "execute_result",
          "data": {
            "text/plain": [
              "Expression(AFFINE, UNKNOWN, (19,))"
            ]
          },
          "metadata": {
            "tags": []
          },
          "execution_count": 52
        }
      ]
    },
    {
      "cell_type": "code",
      "metadata": {
        "id": "zxYOwyCV8TiM",
        "colab_type": "code",
        "outputId": "dc8af73c-1259-4abf-d95f-5b93477a787d",
        "colab": {
          "base_uri": "https://localhost:8080/",
          "height": 74
        }
      },
      "source": [
        "teta[0]"
      ],
      "execution_count": 0,
      "outputs": [
        {
          "output_type": "execute_result",
          "data": {
            "text/plain": [
              "array([0.05])"
            ]
          },
          "metadata": {
            "tags": []
          },
          "execution_count": 50
        }
      ]
    },
    {
      "cell_type": "code",
      "metadata": {
        "id": "ATJHoWop8sva",
        "colab_type": "code",
        "colab": {}
      },
      "source": [
        ""
      ],
      "execution_count": 0,
      "outputs": []
    }
  ]
}