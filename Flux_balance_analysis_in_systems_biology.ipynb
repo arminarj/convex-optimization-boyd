{
  "nbformat": 4,
  "nbformat_minor": 0,
  "metadata": {
    "colab": {
      "name": "Flux balance analysis in systems biology.ipynb",
      "provenance": [],
      "collapsed_sections": [],
      "authorship_tag": "ABX9TyOjBChZp0Y+2MRHkihV//s9",
      "include_colab_link": true
    },
    "kernelspec": {
      "name": "python3",
      "display_name": "Python 3"
    }
  },
  "cells": [
    {
      "cell_type": "markdown",
      "metadata": {
        "id": "view-in-github",
        "colab_type": "text"
      },
      "source": [
        "<a href=\"https://colab.research.google.com/github/arminarj/convex-optimization-boyd/blob/master/Flux_balance_analysis_in_systems_biology.ipynb\" target=\"_parent\"><img src=\"https://colab.research.google.com/assets/colab-badge.svg\" alt=\"Open In Colab\"/></a>"
      ]
    },
    {
      "cell_type": "code",
      "metadata": {
        "id": "kHyF6TytNKeh",
        "colab_type": "code",
        "colab": {
          "base_uri": "https://localhost:8080/",
          "height": 153
        },
        "outputId": "09884cae-b3ec-4d2a-ca95-b9b7a1746a83"
      },
      "source": [
        "!pip install cvxpy==1.1.0a4 -q\n",
        "!pip install diffcp -q"
      ],
      "execution_count": 1,
      "outputs": [
        {
          "output_type": "stream",
          "text": [
            "\u001b[K     |████████████████████████████████| 993kB 3.1MB/s \n",
            "\u001b[?25h  Installing build dependencies ... \u001b[?25l\u001b[?25hdone\n",
            "  Getting requirements to build wheel ... \u001b[?25l\u001b[?25hdone\n",
            "    Preparing wheel metadata ... \u001b[?25l\u001b[?25hdone\n",
            "  Building wheel for cvxpy (PEP 517) ... \u001b[?25l\u001b[?25hdone\n",
            "\u001b[K     |████████████████████████████████| 2.2MB 3.3MB/s \n",
            "\u001b[?25h  Building wheel for diffcp (setup.py) ... \u001b[?25l\u001b[?25hdone\n"
          ],
          "name": "stdout"
        }
      ]
    },
    {
      "cell_type": "markdown",
      "metadata": {
        "id": "Fu6B0c1aFuTA",
        "colab_type": "text"
      },
      "source": [
        "# Flux balance analysis in systems biology."
      ]
    },
    {
      "cell_type": "markdown",
      "metadata": {
        "id": "jc4rBL4sGOYR",
        "colab_type": "text"
      },
      "source": [
        "importing question datas"
      ]
    },
    {
      "cell_type": "code",
      "metadata": {
        "id": "uOtWJUGOnpvR",
        "colab_type": "code",
        "colab": {}
      },
      "source": [
        "# data file for flux balance analysis in systems biology\n",
        "# From Segre, Zucker et al \"From annotated genomes to metabolic flux\n",
        "# models and kinetic parameter fitting\" OMICS 7 (3), 301-316. \n",
        "import numpy as np\n",
        "\n",
        "# Stoichiometric matrix\n",
        "S = np.array([\n",
        "#\tM1\tM2\tM3\tM4\tM5\tM6\t\n",
        "\t[1,\t0,\t0,\t0,\t0,\t0],\t#\tR1:  extracellular -->  M1\n",
        "\t[-1,\t1,\t0,\t0,\t0,\t0],\t#\tR2:  M1 -->  M2\n",
        "\t[-1,\t0,\t1,\t0,\t0,\t0],\t#\tR3:  M1 -->  M3\n",
        "\t[0,\t-1,\t0,\t2,\t-1,\t0],\t#\tR4:  M2 + M5 --> 2 M4\n",
        "\t[0,\t0,\t0,\t0,\t1,\t0],\t#\tR5:  extracellular -->  M5\n",
        "\t[0,\t-2,\t1,\t0,\t0,\t1],\t#\tR6:  2 M2 -->  M3 + M6\n",
        "\t[0,\t0,\t-1,\t1,\t0,\t0],\t#\tR7:  M3 -->  M4\n",
        "\t[0,\t0,\t0,\t0,\t0,\t-1],\t#\tR8:  M6 --> extracellular\n",
        "\t[0,\t0,\t0,\t-1,\t0,\t0],\t#\tR9:  M4 --> cell biomass\n",
        "\t]).T\n",
        "\n",
        "m, n = S.shape\n",
        "vmax = np.array([\n",
        "\t10.10,\t# R1:  extracellular -->  M1\n",
        "\t100,\t# R2:  M1 -->  M2\n",
        "\t5.90,\t# R3:  M1 -->  M3\n",
        "\t100,\t# R4:  M2 + M5 --> 2 M4\n",
        "\t3.70,\t# R5:  extracellular -->  M5\n",
        "\t100,\t# R6:  2 M2 --> M3 + M6\n",
        "\t100,\t# R7:  M3 -->  M4\n",
        "\t100,\t# R8:  M6 -->  extracellular\n",
        "\t100,\t# R9:  M4 -->  cell biomass\n",
        "\t])"
      ],
      "execution_count": 0,
      "outputs": []
    },
    {
      "cell_type": "markdown",
      "metadata": {
        "id": "CEr60EegGUpB",
        "colab_type": "text"
      },
      "source": [
        "Defining problom with DCP structure.\n"
      ]
    },
    {
      "cell_type": "code",
      "metadata": {
        "id": "Qa9FW_YYoHrh",
        "colab_type": "code",
        "outputId": "b1ea6bd5-5878-4d01-cc21-82969d3c9824",
        "colab": {
          "base_uri": "https://localhost:8080/",
          "height": 87
        }
      },
      "source": [
        "import cvxpy as cp\n",
        "\n",
        "V = cp.Variable(n)\n",
        "\n",
        "obj = cp.Maximize(V[-1])\n",
        "constraints  = [\n",
        "                0 <= V,\n",
        "                V <= vmax,\n",
        "                S@V == 0,\n",
        "]\n",
        "\n",
        "prob = cp.Problem(obj, constraints)\n",
        "\n",
        "print(\"prob is DCP:\", prob.is_dcp())\n",
        "\n",
        "try:\n",
        "    prob.solve(requires_grad=True)\n",
        "    print(\"status:  \", prob.status)\n",
        "    print(\"optimal value:  \", prob.value)\n",
        "except Exception as e:\n",
        "    print(e)\n"
      ],
      "execution_count": 65,
      "outputs": [
        {
          "output_type": "stream",
          "text": [
            "prob is DCP: True\n",
            "status:   optimal\n",
            "optimal value:   13.55005752337796\n"
          ],
          "name": "stdout"
        }
      ]
    },
    {
      "cell_type": "markdown",
      "metadata": {
        "id": "zLM52-N2PZc-",
        "colab_type": "text"
      },
      "source": [
        "Sensivity:"
      ]
    },
    {
      "cell_type": "code",
      "metadata": {
        "id": "wy2dgbNIPjoo",
        "colab_type": "code",
        "outputId": "30abbe60-5aef-4330-a640-defd0730927d",
        "colab": {
          "base_uri": "https://localhost:8080/",
          "height": 54
        }
      },
      "source": [
        "dV = np.ones(n)*1e-2 ; dV[-1] = 0;\n",
        "\n",
        "V.delta = dV\n",
        "\n",
        "prob.derivative()\n",
        "\n",
        "G = V[-1]\n",
        "\n",
        "V.value += dV\n",
        "\n",
        "G_hat = V[-1].value\n",
        "\n",
        "prob.solve()\n",
        "print('G: predicted {0:.5f} actual {1:.5f}'.format(G_hat, G.value))\n",
        "\n",
        "V.value -= dV"
      ],
      "execution_count": 19,
      "outputs": [
        {
          "output_type": "stream",
          "text": [
            "G: predicted 13.55006 actual 13.55000\n"
          ],
          "name": "stdout"
        }
      ]
    },
    {
      "cell_type": "markdown",
      "metadata": {
        "id": "K2-n3OqmT65Z",
        "colab_type": "text"
      },
      "source": [
        "Part B:"
      ]
    },
    {
      "cell_type": "code",
      "metadata": {
        "id": "5I76MKr6PmKS",
        "colab_type": "code",
        "colab": {
          "base_uri": "https://localhost:8080/",
          "height": 186
        },
        "outputId": "8cb316f0-6c5e-4bcd-894a-a5f7f0754685"
      },
      "source": [
        "G_min = 0.2 * G.value \n",
        "G_matrix = np.zeros((n, n))\n",
        "\n",
        "for i in range(n):\n",
        "    for j in range(n):\n",
        "\n",
        "        V = cp.Variable(n)\n",
        "\n",
        "        obj = cp.Maximize(V[-1])\n",
        "\n",
        "        constraints  = [\n",
        "                        0 <= V,\n",
        "                        V <= vmax,\n",
        "                        S@V == 0,\n",
        "                        V[i] == 0, \n",
        "                        V[j] == 0,\n",
        "        ]\n",
        "\n",
        "        prob = cp.Problem(obj, constraints)\n",
        "        try:\n",
        "            prob.solve()\n",
        "            G_matrix[i, j] = G_matrix[j, i] = prob.value\n",
        "        except Exception as e:\n",
        "            print(e)\n",
        "\n",
        "G_matrix = G_matrix < G_min\n",
        "print(G_matrix)"
      ],
      "execution_count": 75,
      "outputs": [
        {
          "output_type": "stream",
          "text": [
            "[[ True  True  True  True  True  True  True  True  True]\n",
            " [ True False  True False False False  True False  True]\n",
            " [ True  True False False False False False False  True]\n",
            " [ True False False False False False  True False  True]\n",
            " [ True False False False False False  True False  True]\n",
            " [ True False False False False False False False  True]\n",
            " [ True  True False  True  True False False False  True]\n",
            " [ True False False False False False False False  True]\n",
            " [ True  True  True  True  True  True  True  True  True]]\n"
          ],
          "name": "stdout"
        }
      ]
    },
    {
      "cell_type": "markdown",
      "metadata": {
        "id": "k28Uhf4HmI2k",
        "colab_type": "text"
      },
      "source": [
        "### plotting sensevity:"
      ]
    },
    {
      "cell_type": "code",
      "metadata": {
        "id": "_oP3Lou7lZWi",
        "colab_type": "code",
        "colab": {
          "base_uri": "https://localhost:8080/",
          "height": 289
        },
        "outputId": "53478505-81fe-4e8b-a722-986c02462f90"
      },
      "source": [
        "import matplotlib.pyplot as plt\n",
        "\n",
        "plt.imshow(G_matrix, cmap='RdBu')\n",
        "plt.title('')\n",
        "plt.colorbar()\n",
        "plt.show()"
      ],
      "execution_count": 89,
      "outputs": [
        {
          "output_type": "display_data",
          "data": {
            "image/png": "[encoded data removed]",
            "text/plain": [
              "<Figure size 432x288 with 2 Axes>"
            ]
          },
          "metadata": {
            "tags": [],
            "needs_background": "light"
          }
        }
      ]
    },
    {
      "cell_type": "markdown",
      "metadata": {
        "id": "CJ_10vlunBG3",
        "colab_type": "text"
      },
      "source": [
        "It seems the first and last Metabolites are essential.\n",
        "additionally, there is other coupled essential metablites too."
      ]
    },
    {
      "cell_type": "code",
      "metadata": {
        "id": "R15AZYZXnXRv",
        "colab_type": "code",
        "colab": {}
      },
      "source": [
        ""
      ],
      "execution_count": 0,
      "outputs": []
    }
  ]
}