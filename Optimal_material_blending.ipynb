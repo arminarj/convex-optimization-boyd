{
  "nbformat": 4,
  "nbformat_minor": 0,
  "metadata": {
    "colab": {
      "name": "Optimal material blending.ipynb",
      "provenance": [],
      "authorship_tag": "ABX9TyNnR5XCoCNY0Wm0Iw8kQq8Y",
      "include_colab_link": true
    },
    "kernelspec": {
      "name": "python3",
      "display_name": "Python 3"
    }
  },
  "cells": [
    {
      "cell_type": "markdown",
      "metadata": {
        "id": "view-in-github",
        "colab_type": "text"
      },
      "source": [
        "<a href=\"https://colab.research.google.com/github/arminarj/convex-optimization-boyd/blob/master/Optimal_material_blending.ipynb\" target=\"_parent\"><img src=\"https://colab.research.google.com/assets/colab-badge.svg\" alt=\"Open In Colab\"/></a>"
      ]
    },
    {
      "cell_type": "code",
      "metadata": {
        "id": "SN83JWYZzaGX",
        "colab_type": "code",
        "outputId": "5f9d96fd-27f7-4fc4-ab4c-5da3ba363629",
        "colab": {
          "base_uri": "https://localhost:8080/",
          "height": 134
        }
      },
      "source": [
        "# !pip install cvxpy==1.1.0a4 -q\n",
        "# !pip install diffcp -q"
      ],
      "execution_count": 0,
      "outputs": [
        {
          "output_type": "stream",
          "text": [
            "\u001b[?25l\r\u001b[K     |▎                               | 10kB 18.0MB/s eta 0:00:01\r\u001b[K     |▋                               | 20kB 2.2MB/s eta 0:00:01\r\u001b[K     |█                               | 30kB 2.9MB/s eta 0:00:01\r\u001b[K     |█▎                              | 40kB 3.2MB/s eta 0:00:01\r\u001b[K     |█▋                              | 51kB 2.5MB/s eta 0:00:01\r\u001b[K     |██                              | 61kB 2.9MB/s eta 0:00:01\r\u001b[K     |██▎                             | 71kB 3.1MB/s eta 0:00:01\r\u001b[K     |██▋                             | 81kB 3.5MB/s eta 0:00:01\r\u001b[K     |███                             | 92kB 3.7MB/s eta 0:00:01\r\u001b[K     |███▎                            | 102kB 3.5MB/s eta 0:00:01\r\u001b[K     |███▋                            | 112kB 3.5MB/s eta 0:00:01\r\u001b[K     |████                            | 122kB 3.5MB/s eta 0:00:01\r\u001b[K     |████▎                           | 133kB 3.5MB/s eta 0:00:01\r\u001b[K     |████▋                           | 143kB 3.5MB/s eta 0:00:01\r\u001b[K     |█████                           | 153kB 3.5MB/s eta 0:00:01\r\u001b[K     |█████▎                          | 163kB 3.5MB/s eta 0:00:01\r\u001b[K     |█████▋                          | 174kB 3.5MB/s eta 0:00:01\r\u001b[K     |██████                          | 184kB 3.5MB/s eta 0:00:01\r\u001b[K     |██████▎                         | 194kB 3.5MB/s eta 0:00:01\r\u001b[K     |██████▋                         | 204kB 3.5MB/s eta 0:00:01\r\u001b[K     |███████                         | 215kB 3.5MB/s eta 0:00:01\r\u001b[K     |███████▎                        | 225kB 3.5MB/s eta 0:00:01\r\u001b[K     |███████▋                        | 235kB 3.5MB/s eta 0:00:01\r\u001b[K     |████████                        | 245kB 3.5MB/s eta 0:00:01\r\u001b[K     |████████▎                       | 256kB 3.5MB/s eta 0:00:01\r\u001b[K     |████████▋                       | 266kB 3.5MB/s eta 0:00:01\r\u001b[K     |█████████                       | 276kB 3.5MB/s eta 0:00:01\r\u001b[K     |█████████▎                      | 286kB 3.5MB/s eta 0:00:01\r\u001b[K     |█████████▋                      | 296kB 3.5MB/s eta 0:00:01\r\u001b[K     |██████████                      | 307kB 3.5MB/s eta 0:00:01\r\u001b[K     |██████████▎                     | 317kB 3.5MB/s eta 0:00:01\r\u001b[K     |██████████▋                     | 327kB 3.5MB/s eta 0:00:01\r\u001b[K     |███████████                     | 337kB 3.5MB/s eta 0:00:01\r\u001b[K     |███████████▎                    | 348kB 3.5MB/s eta 0:00:01\r\u001b[K     |███████████▋                    | 358kB 3.5MB/s eta 0:00:01\r\u001b[K     |████████████                    | 368kB 3.5MB/s eta 0:00:01\r\u001b[K     |████████████▎                   | 378kB 3.5MB/s eta 0:00:01\r\u001b[K     |████████████▋                   | 389kB 3.5MB/s eta 0:00:01\r\u001b[K     |█████████████                   | 399kB 3.5MB/s eta 0:00:01\r\u001b[K     |█████████████▎                  | 409kB 3.5MB/s eta 0:00:01\r\u001b[K     |█████████████▋                  | 419kB 3.5MB/s eta 0:00:01\r\u001b[K     |██████████████                  | 430kB 3.5MB/s eta 0:00:01\r\u001b[K     |██████████████▎                 | 440kB 3.5MB/s eta 0:00:01\r\u001b[K     |██████████████▋                 | 450kB 3.5MB/s eta 0:00:01\r\u001b[K     |███████████████                 | 460kB 3.5MB/s eta 0:00:01\r\u001b[K     |███████████████▎                | 471kB 3.5MB/s eta 0:00:01\r\u001b[K     |███████████████▋                | 481kB 3.5MB/s eta 0:00:01\r\u001b[K     |████████████████                | 491kB 3.5MB/s eta 0:00:01\r\u001b[K     |████████████████▎               | 501kB 3.5MB/s eta 0:00:01\r\u001b[K     |████████████████▋               | 512kB 3.5MB/s eta 0:00:01\r\u001b[K     |█████████████████               | 522kB 3.5MB/s eta 0:00:01\r\u001b[K     |█████████████████▎              | 532kB 3.5MB/s eta 0:00:01\r\u001b[K     |█████████████████▋              | 542kB 3.5MB/s eta 0:00:01\r\u001b[K     |██████████████████              | 552kB 3.5MB/s eta 0:00:01\r\u001b[K     |██████████████████▎             | 563kB 3.5MB/s eta 0:00:01\r\u001b[K     |██████████████████▌             | 573kB 3.5MB/s eta 0:00:01\r\u001b[K     |██████████████████▉             | 583kB 3.5MB/s eta 0:00:01\r\u001b[K     |███████████████████▏            | 593kB 3.5MB/s eta 0:00:01\r\u001b[K     |███████████████████▌            | 604kB 3.5MB/s eta 0:00:01\r\u001b[K     |███████████████████▉            | 614kB 3.5MB/s eta 0:00:01\r\u001b[K     |████████████████████▏           | 624kB 3.5MB/s eta 0:00:01\r\u001b[K     |████████████████████▌           | 634kB 3.5MB/s eta 0:00:01\r\u001b[K     |████████████████████▉           | 645kB 3.5MB/s eta 0:00:01\r\u001b[K     |█████████████████████▏          | 655kB 3.5MB/s eta 0:00:01\r\u001b[K     |█████████████████████▌          | 665kB 3.5MB/s eta 0:00:01\r\u001b[K     |█████████████████████▉          | 675kB 3.5MB/s eta 0:00:01\r\u001b[K     |██████████████████████▏         | 686kB 3.5MB/s eta 0:00:01\r\u001b[K     |██████████████████████▌         | 696kB 3.5MB/s eta 0:00:01\r\u001b[K     |██████████████████████▉         | 706kB 3.5MB/s eta 0:00:01\r\u001b[K     |███████████████████████▏        | 716kB 3.5MB/s eta 0:00:01\r\u001b[K     |███████████████████████▌        | 727kB 3.5MB/s eta 0:00:01\r\u001b[K     |███████████████████████▉        | 737kB 3.5MB/s eta 0:00:01\r\u001b[K     |████████████████████████▏       | 747kB 3.5MB/s eta 0:00:01\r\u001b[K     |████████████████████████▌       | 757kB 3.5MB/s eta 0:00:01\r\u001b[K     |████████████████████████▉       | 768kB 3.5MB/s eta 0:00:01\r\u001b[K     |█████████████████████████▏      | 778kB 3.5MB/s eta 0:00:01\r\u001b[K     |█████████████████████████▌      | 788kB 3.5MB/s eta 0:00:01\r\u001b[K     |█████████████████████████▉      | 798kB 3.5MB/s eta 0:00:01\r\u001b[K     |██████████████████████████▏     | 808kB 3.5MB/s eta 0:00:01\r\u001b[K     |██████████████████████████▌     | 819kB 3.5MB/s eta 0:00:01\r\u001b[K     |██████████████████████████▉     | 829kB 3.5MB/s eta 0:00:01\r\u001b[K     |███████████████████████████▏    | 839kB 3.5MB/s eta 0:00:01\r\u001b[K     |███████████████████████████▌    | 849kB 3.5MB/s eta 0:00:01\r\u001b[K     |███████████████████████████▉    | 860kB 3.5MB/s eta 0:00:01\r\u001b[K     |████████████████████████████▏   | 870kB 3.5MB/s eta 0:00:01\r\u001b[K     |████████████████████████████▌   | 880kB 3.5MB/s eta 0:00:01\r\u001b[K     |████████████████████████████▉   | 890kB 3.5MB/s eta 0:00:01\r\u001b[K     |█████████████████████████████▏  | 901kB 3.5MB/s eta 0:00:01\r\u001b[K     |█████████████████████████████▌  | 911kB 3.5MB/s eta 0:00:01\r\u001b[K     |█████████████████████████████▉  | 921kB 3.5MB/s eta 0:00:01\r\u001b[K     |██████████████████████████████▏ | 931kB 3.5MB/s eta 0:00:01\r\u001b[K     |██████████████████████████████▌ | 942kB 3.5MB/s eta 0:00:01\r\u001b[K     |██████████████████████████████▉ | 952kB 3.5MB/s eta 0:00:01\r\u001b[K     |███████████████████████████████▏| 962kB 3.5MB/s eta 0:00:01\r\u001b[K     |███████████████████████████████▌| 972kB 3.5MB/s eta 0:00:01\r\u001b[K     |███████████████████████████████▉| 983kB 3.5MB/s eta 0:00:01\r\u001b[K     |████████████████████████████████| 993kB 3.5MB/s \n",
            "\u001b[?25h  Installing build dependencies ... \u001b[?25l\u001b[?25hdone\n",
            "  Getting requirements to build wheel ... \u001b[?25l\u001b[?25hdone\n",
            "    Preparing wheel metadata ... \u001b[?25l\u001b[?25hdone\n",
            "  Building wheel for cvxpy (PEP 517) ... \u001b[?25l\u001b[?25hdone\n",
            "\u001b[K     |████████████████████████████████| 2.2MB 3.3MB/s \n",
            "\u001b[?25h  Building wheel for diffcp (setup.py) ... \u001b[?25l\u001b[?25hdone\n"
          ],
          "name": "stdout"
        }
      ]
    },
    {
      "cell_type": "code",
      "metadata": {
        "id": "CJk5DRL5sIPa",
        "colab_type": "code",
        "colab": {}
      },
      "source": [
        "import numpy as np\n",
        "\n",
        "m = 4 # the number of raw materials\n",
        "n = 2 # the number of blended materials\n",
        "q = 3 # the number of constituents\n",
        "\n",
        "# the ith column of C is c_i\n",
        "C = np.array([[ .9,  .8, .7, .6],\n",
        "              [.08, .12, .2, .2],\n",
        "              [.02, .08, .1, .2]])\n",
        "\n",
        "# bounds on the blended product concentration\n",
        "c_min = np.array([[.85, 0.65],\n",
        "                    [  0,  0],\n",
        "                    [  0,  0]])\n",
        "c_max = np.array([[ 1,  1 ],\n",
        "                  [.1, .18],\n",
        "                  [.05, .17]])\n",
        "\n",
        "FTilde = np.array([10, 10]) # limit on the flow rate of the blended material\n",
        "F = np.array([7, 2, 6, 3]) # availibility of raw materials\n",
        "\n",
        "p = np.array([15, 13, 11, 8]) # price of raw materials\n",
        "pTilde = np.array([21, 18]) # price of the blended material\n",
        "\n",
        "\n"
      ],
      "execution_count": 0,
      "outputs": []
    },
    {
      "cell_type": "code",
      "metadata": {
        "id": "8lIlo1DnsJXp",
        "colab_type": "code",
        "outputId": "fda0156b-8683-436a-ba9c-9a045222848a",
        "colab": {
          "base_uri": "https://localhost:8080/",
          "height": 168
        }
      },
      "source": [
        "import cvxpy as cp\n",
        "\n",
        "f = cp.Variable((n, m))\n",
        "fTilde = cp.Variable(n)\n",
        "C_tilde = cp.Variable((q, n))\n",
        "\n",
        "obj_function =  - cp.sum(p @ f.T) + fTilde.T @ pTilde\n",
        "\n",
        "obj = cp.Maximize(obj_function)\n",
        "\n",
        "print(\"objective is DCP:\", obj.is_dcp())\n",
        "\n",
        "\n",
        "constraints  = [\n",
        "                C_tilde.T @ np.ones(C_tilde.shape) == 1,\n",
        "                c_min <= C_tilde,\n",
        "                C_tilde <= c_max,\n",
        "                fTilde <= FTilde,\n",
        "                fTilde >= 0, \n",
        "                cp.sum(f, axis=0) <= F.T,\n",
        "                cp.sum(f @ C.T , axis=0) == C_tilde @ fTilde,\n",
        "]\n",
        "for i in range(n):\n",
        "    for j in range(m):\n",
        "        constraints.append(f[i, j] >= 0)\n",
        "\n",
        "prob = cp.Problem(obj, constraints)\n",
        "\n",
        "print(\"prob is DCP:\", prob.is_dcp())\n",
        "\n",
        "try:\n",
        "    prob.solve()\n",
        "    print(\"status:  \", prob.status)\n",
        "    print(\"optimal value:  \", prob.value)\n",
        "except Exception as e:\n",
        "    print(e)\n"
      ],
      "execution_count": 0,
      "outputs": [
        {
          "output_type": "stream",
          "text": [
            "objective is DCP: True\n",
            "prob is DCP: False\n",
            "Problem does not follow DCP rules. Specifically:\n",
            "The following constraints are not DCP:\n",
            "Sum(var34 @ [[0.9  0.08 0.02]\n",
            " [0.8  0.12 0.08]\n",
            " [0.7  0.2  0.1 ]\n",
            " [0.6  0.2  0.2 ]], 0, False) == var36 @ var35 , because the following subexpressions are not:\n",
            "|--  var36 @ var35\n"
          ],
          "name": "stdout"
        }
      ]
    },
    {
      "cell_type": "code",
      "metadata": {
        "id": "OV30P4lVx2nT",
        "colab_type": "code",
        "colab": {}
      },
      "source": [
        ""
      ],
      "execution_count": 0,
      "outputs": []
    }
  ]
}