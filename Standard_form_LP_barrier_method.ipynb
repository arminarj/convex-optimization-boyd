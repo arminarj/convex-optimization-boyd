{
  "nbformat": 4,
  "nbformat_minor": 0,
  "metadata": {
    "colab": {
      "name": "Standard form LP barrier method.ipynb",
      "provenance": [],
      "collapsed_sections": [],
      "authorship_tag": "ABX9TyPIx+hDLRKAhN0grEvaFXh1",
      "include_colab_link": true
    },
    "kernelspec": {
      "name": "python3",
      "display_name": "Python 3"
    }
  },
  "cells": [
    {
      "cell_type": "markdown",
      "metadata": {
        "id": "view-in-github",
        "colab_type": "text"
      },
      "source": [
        "<a href=\"https://colab.research.google.com/github/arminarj/convex-optimization-boyd/blob/master/Standard_form_LP_barrier_method.ipynb\" target=\"_parent\"><img src=\"https://colab.research.google.com/assets/colab-badge.svg\" alt=\"Open In Colab\"/></a>"
      ]
    },
    {
      "cell_type": "code",
      "metadata": {
        "id": "A_Z-a9GrgHeq",
        "colab_type": "code",
        "colab": {}
      },
      "source": [
        "import cvxpy as cp\n",
        "import numpy as np\n",
        "import matplotlib.pyplot as plt"
      ],
      "execution_count": 0,
      "outputs": []
    },
    {
      "cell_type": "code",
      "metadata": {
        "id": "mIs77Mh8iW5e",
        "colab_type": "code",
        "colab": {}
      },
      "source": [
        "## Generating A, b, c, x_init:\n",
        "np.random.seed(0)\n",
        "m, n = 100, 500\n",
        "while(True):\n",
        "    A = np.random.rand(m, n)\n",
        "    A += np.ones((m, n)) * 0.01 # more numerical stability\n",
        "    if np.linalg.matrix_rank(A) == A.shape[0]:\n",
        "        break\n",
        "\n",
        "x_init = np.absolute(np.random.rand(n))\n",
        "\n",
        "b = A @ x_init\n",
        "c = np.random.rand(n)"
      ],
      "execution_count": 0,
      "outputs": []
    },
    {
      "cell_type": "code",
      "metadata": {
        "id": "9FIKNA9sgQj7",
        "colab_type": "code",
        "outputId": "ee44b508-ac24-4dea-a767-b12d3002a211",
        "colab": {
          "base_uri": "https://localhost:8080/",
          "height": 295
        }
      },
      "source": [
        "def LP(A, b, c, x_init, MAX_ITER=100, alfa=1e-2, beta=0.5, verbos=True):\n",
        "    '''\n",
        "    output : X_star, Nu_star, Lambda_log\n",
        "    '''\n",
        "    def plot_lambda(iteration, lambda_log):\n",
        "        plt.figure()\n",
        "        plt.title('KKT Optimality.')\n",
        "        plt.xlabel('Newton steps')\n",
        "        plt.ylabel('lambda^2 / 2')\n",
        "        plt.plot(np.log(lambda_log))\n",
        "        plt.show()\n",
        "\n",
        "    alpa = 0\n",
        "    eps = 1e-6\n",
        "    num_estb = 1e-10\n",
        "\n",
        "    m, n  = b.shape, x_init.shape \n",
        "    if (np.min(x_init) <= 0):\n",
        "        print('Failed, x0 not positive')\n",
        "        return None, None , None\n",
        "    if np.linalg.norm((A@x_init - b), 2) >= eps:\n",
        "        print('Failed, Ax - b not close to 0')\n",
        "        return None, None , None\n",
        "    \n",
        "    lambda_log = []\n",
        "    x = x_init\n",
        "    for iteration in range(MAX_ITER):\n",
        "\n",
        "        ## KKT Systems:\n",
        "\n",
        "        g = c - (1 / (x + num_estb)) # gradient\n",
        "        H = np.diag(np.square(1 / (x + num_estb))) # Hessian\n",
        "\n",
        "        x2_diag = np.diag(np.square(x))\n",
        "        w  = np.linalg.lstsq( A @ x2_diag @ A.T, (-A @ x2_diag @ g), rcond=None)[0]\n",
        "        delta_x  = - x2_diag @ (A.T @ w + g)\n",
        "\n",
        "        lambda_2 = - delta_x.T @ g\n",
        "        lambda_log.append(lambda_2/2)\n",
        "\n",
        "        # Stopping criterion\n",
        "        if lambda_2/2 <= eps :\n",
        "            if verbos:\n",
        "                plot_lambda(iteration, lambda_log)\n",
        "            return x, w, lambda_log\n",
        "\n",
        "        # Backtracking Line Search :\n",
        "        t = 1\n",
        "\n",
        "        while(np.min(x + t * delta_x) <= 0):\n",
        "            t = beta * t\n",
        "\n",
        "        while(True):\n",
        "            if not ( c.T @ (t * delta_x) - np.sum( np.log(x + delta_x * t) ) + np.sum(np.log(x)) - alfa * t * g.T @ delta_x) > 0:                \n",
        "                break\n",
        "            else: t = t * beta \n",
        "\n",
        "        x = x + t * delta_x\n",
        "\n",
        "    print('Maximum iteration reached')\n",
        "    return None, None, lambda_log\n",
        "\n",
        "\n",
        "X_star, Nu_star, Lambda_log = LP(A, b, c, x_init)"
      ],
      "execution_count": 0,
      "outputs": [
        {
          "output_type": "display_data",
          "data": {
            "image/png": "[encoded data removed]",
            "text/plain": [
              "<Figure size 432x288 with 1 Axes>"
            ]
          },
          "metadata": {
            "tags": [],
            "needs_background": "light"
          }
        }
      ]
    },
    {
      "cell_type": "markdown",
      "metadata": {
        "id": "BeU7pkuG5lwC",
        "colab_type": "text"
      },
      "source": [
        " Part B:"
      ]
    },
    {
      "cell_type": "code",
      "metadata": {
        "id": "R3NMbgpRugrJ",
        "colab_type": "code",
        "colab": {}
      },
      "source": [
        "## Generating A, b, c, x_init:\n",
        "np.random.seed(1234)\n",
        "m, n = 100, 500\n",
        "while(True):\n",
        "    A = np.random.rand(m, n)\n",
        "    A += np.ones((m, n)) * 0.01 # more numerical stability\n",
        "    if np.linalg.matrix_rank(A) == A.shape[0]:\n",
        "        break\n",
        "\n",
        "x_init = np.absolute(np.random.rand(n))\n",
        "\n",
        "b = A @ x_init\n",
        "c = np.random.rand(n)"
      ],
      "execution_count": 0,
      "outputs": []
    },
    {
      "cell_type": "code",
      "metadata": {
        "id": "yYzyHXHI630K",
        "colab_type": "code",
        "outputId": "9c0e9618-185b-4fc9-d77d-e0a6b871b63a",
        "colab": {
          "base_uri": "https://localhost:8080/",
          "height": 295
        }
      },
      "source": [
        "def barrier_method(A, b, c, x_init, MAX_ITER=100, alfa=1e-2,\n",
        "                        beta=0.5, verbos=True, slv_verbos=False):\n",
        "\n",
        "    def plot_gap(logs):\n",
        "        plt.figure()\n",
        "        plt.title('Duality Gap / step')\n",
        "        plt.xlabel('Newton steps')\n",
        "        plt.ylabel('Duality Gap')\n",
        "        plt.step(range(len(logs[1])),np.log(logs[1]))\n",
        "        plt.show()  \n",
        "    # Barrier:\n",
        "    eps = 1e-3\n",
        "    stb_param = 1e-10\n",
        "    T_init = 1\n",
        "    mu = 15 # usually between [10, 20] \n",
        "    n = len(x_init)\n",
        "    logs = ([], [])\n",
        "    t = T_init\n",
        "    while(True):\n",
        "        X_star, Nu_star, Lambda_log = LP(A, b, c, x_init, alfa=alfa, beta=beta, verbos=slv_verbos)\n",
        "        x = X_star\n",
        "        dual_gap = n / (t+stb_param)\n",
        "        logs[0].append(len(Lambda_log))\n",
        "        logs[1].append(dual_gap)\n",
        "        if dual_gap <= eps:\n",
        "            if verbos:\n",
        "                plot_gap(logs)\n",
        "            return x, logs, dual_gap\n",
        "        t = t * mu\n",
        "\n",
        "x_star, logs, gap = barrier_method(A, b, c, x_init, verbos=True)"
      ],
      "execution_count": 0,
      "outputs": [
        {
          "output_type": "display_data",
          "data": {
            "image/png": "[encoded data removed]",
            "text/plain": [
              "<Figure size 432x288 with 1 Axes>"
            ]
          },
          "metadata": {
            "tags": [],
            "needs_background": "light"
          }
        }
      ]
    },
    {
      "cell_type": "markdown",
      "metadata": {
        "id": "Ni9xSQOb-xqx",
        "colab_type": "text"
      },
      "source": [
        "### comparing with CVXPY"
      ]
    },
    {
      "cell_type": "code",
      "metadata": {
        "id": "QWVJcZIc9aK3",
        "colab_type": "code",
        "outputId": "556a5fb2-a39d-4c26-c500-0326936762ed",
        "colab": {
          "base_uri": "https://localhost:8080/",
          "height": 196
        }
      },
      "source": [
        "TEST_LIMIT = 100\n",
        "np.random.seed(111)\n",
        "\n",
        "for t in range(TEST_LIMIT):\n",
        "    ## out Solution:\n",
        "    m, n = 100, 500\n",
        "    while(True):\n",
        "        A = np.random.rand(m, n)\n",
        "        A += np.ones((m, n)) * 0.01 # more numerical stability\n",
        "        if np.linalg.matrix_rank(A) == A.shape[0]:\n",
        "            break\n",
        "    x_init = np.absolute(np.random.rand(n))\n",
        "    b = A @ x_init\n",
        "    c = np.random.rand(n)\n",
        "\n",
        "    x_star, logs, gap = barrier_method(A, b, c, x_init, verbos=False)\n",
        "\n",
        "    ## CVX solution:\n",
        "    x = cp.Variable(n)\n",
        "    obj_function =  c.T @ x - cp.sum(cp.log(x))\n",
        "    obj = cp.Minimize(obj_function)\n",
        "    constraints  = [\n",
        "                    A @ x == b,\n",
        "                    x >= 0,\n",
        "        ]\n",
        "    prob = cp.Problem(obj, constraints)\n",
        "    try:\n",
        "        prob.solve()\n",
        "        X_CVX_star  = prob.value\n",
        "    except Exception as e:\n",
        "        print(e)\n",
        "        break\n",
        "    assert( np.allclose(X_CVX_star, x_star, 1e-6) )\n"
      ],
      "execution_count": 0,
      "outputs": [
        {
          "output_type": "error",
          "ename": "AssertionError",
          "evalue": "ignored",
          "traceback": [
            "\u001b[0;31m---------------------------------------------------------------------------\u001b[0m",
            "\u001b[0;31mAssertionError\u001b[0m                            Traceback (most recent call last)",
            "\u001b[0;32m<ipython-input-6-29e378b7809c>\u001b[0m in \u001b[0;36m<module>\u001b[0;34m()\u001b[0m\n\u001b[1;32m     31\u001b[0m         \u001b[0mprint\u001b[0m\u001b[0;34m(\u001b[0m\u001b[0me\u001b[0m\u001b[0;34m)\u001b[0m\u001b[0;34m\u001b[0m\u001b[0;34m\u001b[0m\u001b[0m\n\u001b[1;32m     32\u001b[0m         \u001b[0;32mbreak\u001b[0m\u001b[0;34m\u001b[0m\u001b[0;34m\u001b[0m\u001b[0m\n\u001b[0;32m---> 33\u001b[0;31m     \u001b[0;32massert\u001b[0m\u001b[0;34m(\u001b[0m \u001b[0mnp\u001b[0m\u001b[0;34m.\u001b[0m\u001b[0mallclose\u001b[0m\u001b[0;34m(\u001b[0m\u001b[0mX_CVX_star\u001b[0m\u001b[0;34m,\u001b[0m \u001b[0mx_star\u001b[0m\u001b[0;34m,\u001b[0m \u001b[0;36m1e-6\u001b[0m\u001b[0;34m)\u001b[0m \u001b[0;34m)\u001b[0m\u001b[0;34m\u001b[0m\u001b[0;34m\u001b[0m\u001b[0m\n\u001b[0m",
            "\u001b[0;31mAssertionError\u001b[0m: "
          ]
        }
      ]
    },
    {
      "cell_type": "markdown",
      "metadata": {
        "id": "zYCJc7KUD55f",
        "colab_type": "text"
      },
      "source": [
        "# Part C : LP solver\n"
      ]
    },
    {
      "cell_type": "code",
      "metadata": {
        "id": "T3eipnP8DjKG",
        "colab_type": "code",
        "colab": {}
      },
      "source": [
        "class LPSolver():\n",
        "    def __init__(self):\n",
        "        super(LPSolver).__init__()\n",
        "        self.INF = np.float('inf')\n",
        "        self.status = None\n",
        "\n",
        "    def solve(self, A, b, c):\n",
        "        nstep = (0, 0)\n",
        "\n",
        "        # Phase I\n",
        "\n",
        "        m, n = A.shape\n",
        "        x0 = np.linalg.lstsq( A, b, rcond=None)[0]\n",
        "        if np.min(x0) > 0 :\n",
        "            ## Stricly feasible point\n",
        "            pass\n",
        "        t0 = 2 - np.maximum(0, np.min(x0))\n",
        "        A1 = np.concatenate([A, (-A @ np.ones((n, 1)))], axis=1)\n",
        "        b1 = b - A @ np.ones((n,1))\n",
        "        z0 = x0 + t0 * np.ones(n) - np.ones(n) # 𝑧 = 𝑥 + (𝑡 − 1)𝟏\n",
        "        print(z0.shape)\n",
        "        c1 = np.zeros((n+1, 1)); c1[-1, :] = 1;\n",
        "        z_star, logs, gap = self.barrier_method(A1, b1, c1, np.hstack([z0, t0]), verbos=False)\n",
        "        t = z_star[-1]\n",
        "        nstep[0] = np.sum(logs[0])\n",
        "        if t >= 1:\n",
        "            print('The problom is infeasible.')\n",
        "            self.status = 'Infeasible'; gap = None;\n",
        "            return None, self.INF, gap, nstep\n",
        "        print('A feasible point found.')\n",
        "        x0 = z_star[:n] + (1 - z_star[-1])* np.ones((n, 1))\n",
        "\n",
        "        # Phase II\n",
        "\n",
        "        x_star, logs, gap = self.barrier_method(A, b, c, x_0, verbos=False)\n",
        "        self.status = 'Solved'\n",
        "        p_star = c.T @ x_star\n",
        "        nstep[1] = np.sum(logs[0])\n",
        "        return x_star, p_star, gap, nstep\n",
        "\n",
        "\n",
        "    def barrier_method(self, A, b, c, x_init, MAX_ITER=100, alfa=1e-2,\n",
        "                            beta=0.5, verbos=True, slv_verbos=False):\n",
        "\n",
        "        def plot_gap(logs):\n",
        "            plt.figure()\n",
        "            plt.title('Duality Gap / step')\n",
        "            plt.xlabel('Newton steps')\n",
        "            plt.ylabel('Duality Gap')\n",
        "            plt.step(range(len(logs[1])),np.log(logs[1]))\n",
        "            plt.show()  \n",
        "        # Barrier:\n",
        "        eps = 1e-3\n",
        "        stb_param = 1e-10\n",
        "        T_init = 1\n",
        "        mu = 15 # usually between [10, 20] \n",
        "        n = len(x_init)\n",
        "        logs = ([], [])\n",
        "        t = T_init\n",
        "        while(True):\n",
        "            X_star, Nu_star, Lambda_log = self.LP(A, b, c, x_init, alfa=alfa, beta=beta, verbos=slv_verbos)\n",
        "            x = X_star\n",
        "            dual_gap = n / (t+stb_param)\n",
        "            logs[0].append(len(Lambda_log) if Lambda_log is not None else 0)\n",
        "            logs[1].append(dual_gap)\n",
        "            if dual_gap <= eps:\n",
        "                if verbos:\n",
        "                    plot_gap(logs)\n",
        "                return x, logs, dual_gap\n",
        "            t = t * mu\n",
        "\n",
        "    def LP(self, A, b, c, x_init, MAX_ITER=100, alfa=1e-2, beta=0.5, verbos=True):\n",
        "        '''\n",
        "        output : X_star, Nu_star, Lambda_log\n",
        "        '''\n",
        "        def plot_lambda(iteration, lambda_log):\n",
        "            plt.figure()\n",
        "            plt.title('KKT Optimality.')\n",
        "            plt.xlabel('Newton steps')\n",
        "            plt.ylabel('lambda^2 / 2')\n",
        "            plt.plot(np.log(lambda_log))\n",
        "            plt.show()\n",
        "\n",
        "        alpa = 0\n",
        "        eps = 1e-6\n",
        "        num_estb = 1e-10\n",
        "\n",
        "        m, n  = A.shape\n",
        "        if (np.min(x_init) <= 0):\n",
        "            print('Failed, x0 not positive')\n",
        "            return None, None , None\n",
        "        if np.linalg.norm((A@x_init - b), 2) >= eps:\n",
        "            print('Failed, Ax - b not close to 0')\n",
        "            return None, None , None\n",
        "        \n",
        "        lambda_log = []\n",
        "        x = x_init\n",
        "        for iteration in range(MAX_ITER):\n",
        "\n",
        "            ## KKT Systems:\n",
        "\n",
        "            g = c - (1 / (x + num_estb)) # gradient\n",
        "            H = np.diag(np.square(1 / (x + num_estb))) # Hessian\n",
        "\n",
        "            x2_diag = np.diag(np.square(x))\n",
        "            w  = np.linalg.lstsq( A @ x2_diag @ A.T, (-A @ x2_diag @ g), rcond=None)[0]\n",
        "            delta_x  = - x2_diag @ (A.T @ w + g)\n",
        "\n",
        "            lambda_2 = - delta_x.T @ g\n",
        "            lambda_log.append(lambda_2/2)\n",
        "\n",
        "            # Stopping criterion\n",
        "            if lambda_2/2 <= eps :\n",
        "                if verbos:\n",
        "                    plot_lambda(iteration, lambda_log)\n",
        "                return x, w, lambda_log\n",
        "\n",
        "            # Backtracking Line Search :\n",
        "            t = 1\n",
        "            while(np.min(x + t * delta_x) <= 0):\n",
        "                t = beta * t\n",
        "\n",
        "            while(True):\n",
        "                if not ( c.T @ (t * delta_x) - np.sum( np.log(x + delta_x * t) ) + np.sum(np.log(x)) - alfa * t * g.T @ delta_x) > 0:                \n",
        "                    break\n",
        "                else: t = t * beta \n",
        "\n",
        "            x = x + t * delta_x\n",
        "\n",
        "        print('Maximum iteration reached')\n",
        "        return None, None, lambda_log\n",
        "\n"
      ],
      "execution_count": 0,
      "outputs": []
    },
    {
      "cell_type": "code",
      "metadata": {
        "id": "uS7AsiviFdLm",
        "colab_type": "code",
        "outputId": "db710772-456d-4383-835a-907d85f8afa7",
        "colab": {
          "base_uri": "https://localhost:8080/",
          "height": 431
        }
      },
      "source": [
        "my_solver = LPSolver()\n",
        "\n",
        "## Generating A, b, c, x_init:\n",
        "np.random.seed(1234321)\n",
        "m, n = 100, 500\n",
        "while(True):\n",
        "    A = np.random.rand(m, n)\n",
        "    A += np.ones((m, n)) * 0.01 # more numerical stability\n",
        "    if np.linalg.matrix_rank(A) == A.shape[0]:\n",
        "        break\n",
        "b = np.random.rand(m)\n",
        "c = np.random.rand(n)\n",
        "\n",
        "my_solver.solve(A, b, c)"
      ],
      "execution_count": 0,
      "outputs": [
        {
          "output_type": "stream",
          "text": [
            "(500,)\n",
            "Failed, Ax - b not close to 0\n",
            "Failed, Ax - b not close to 0\n",
            "Failed, Ax - b not close to 0\n",
            "Failed, Ax - b not close to 0\n",
            "Failed, Ax - b not close to 0\n",
            "Failed, Ax - b not close to 0\n"
          ],
          "name": "stdout"
        },
        {
          "output_type": "error",
          "ename": "TypeError",
          "evalue": "ignored",
          "traceback": [
            "\u001b[0;31m---------------------------------------------------------------------------\u001b[0m",
            "\u001b[0;31mTypeError\u001b[0m                                 Traceback (most recent call last)",
            "\u001b[0;32m<ipython-input-8-41e8d1e86bcc>\u001b[0m in \u001b[0;36m<module>\u001b[0;34m()\u001b[0m\n\u001b[1;32m     12\u001b[0m \u001b[0mc\u001b[0m \u001b[0;34m=\u001b[0m \u001b[0mnp\u001b[0m\u001b[0;34m.\u001b[0m\u001b[0mrandom\u001b[0m\u001b[0;34m.\u001b[0m\u001b[0mrand\u001b[0m\u001b[0;34m(\u001b[0m\u001b[0mn\u001b[0m\u001b[0;34m)\u001b[0m\u001b[0;34m\u001b[0m\u001b[0;34m\u001b[0m\u001b[0m\n\u001b[1;32m     13\u001b[0m \u001b[0;34m\u001b[0m\u001b[0m\n\u001b[0;32m---> 14\u001b[0;31m \u001b[0mmy_solver\u001b[0m\u001b[0;34m.\u001b[0m\u001b[0msolve\u001b[0m\u001b[0;34m(\u001b[0m\u001b[0mA\u001b[0m\u001b[0;34m,\u001b[0m \u001b[0mb\u001b[0m\u001b[0;34m,\u001b[0m \u001b[0mc\u001b[0m\u001b[0;34m)\u001b[0m\u001b[0;34m\u001b[0m\u001b[0;34m\u001b[0m\u001b[0m\n\u001b[0m",
            "\u001b[0;32m<ipython-input-7-5de766df61a7>\u001b[0m in \u001b[0;36msolve\u001b[0;34m(self, A, b, c)\u001b[0m\n\u001b[1;32m     22\u001b[0m         \u001b[0mc1\u001b[0m \u001b[0;34m=\u001b[0m \u001b[0mnp\u001b[0m\u001b[0;34m.\u001b[0m\u001b[0mzeros\u001b[0m\u001b[0;34m(\u001b[0m\u001b[0;34m(\u001b[0m\u001b[0mn\u001b[0m\u001b[0;34m+\u001b[0m\u001b[0;36m1\u001b[0m\u001b[0;34m,\u001b[0m \u001b[0;36m1\u001b[0m\u001b[0;34m)\u001b[0m\u001b[0;34m)\u001b[0m\u001b[0;34m;\u001b[0m \u001b[0mc1\u001b[0m\u001b[0;34m[\u001b[0m\u001b[0;34m-\u001b[0m\u001b[0;36m1\u001b[0m\u001b[0;34m,\u001b[0m \u001b[0;34m:\u001b[0m\u001b[0;34m]\u001b[0m \u001b[0;34m=\u001b[0m \u001b[0;36m1\u001b[0m\u001b[0;34m;\u001b[0m\u001b[0;34m\u001b[0m\u001b[0;34m\u001b[0m\u001b[0m\n\u001b[1;32m     23\u001b[0m         \u001b[0mz_star\u001b[0m\u001b[0;34m,\u001b[0m \u001b[0mlogs\u001b[0m\u001b[0;34m,\u001b[0m \u001b[0mgap\u001b[0m \u001b[0;34m=\u001b[0m \u001b[0mself\u001b[0m\u001b[0;34m.\u001b[0m\u001b[0mbarrier_method\u001b[0m\u001b[0;34m(\u001b[0m\u001b[0mA1\u001b[0m\u001b[0;34m,\u001b[0m \u001b[0mb1\u001b[0m\u001b[0;34m,\u001b[0m \u001b[0mc1\u001b[0m\u001b[0;34m,\u001b[0m \u001b[0mnp\u001b[0m\u001b[0;34m.\u001b[0m\u001b[0mhstack\u001b[0m\u001b[0;34m(\u001b[0m\u001b[0;34m[\u001b[0m\u001b[0mz0\u001b[0m\u001b[0;34m,\u001b[0m \u001b[0mt0\u001b[0m\u001b[0;34m]\u001b[0m\u001b[0;34m)\u001b[0m\u001b[0;34m,\u001b[0m \u001b[0mverbos\u001b[0m\u001b[0;34m=\u001b[0m\u001b[0;32mFalse\u001b[0m\u001b[0;34m)\u001b[0m\u001b[0;34m\u001b[0m\u001b[0;34m\u001b[0m\u001b[0m\n\u001b[0;32m---> 24\u001b[0;31m         \u001b[0mt\u001b[0m \u001b[0;34m=\u001b[0m \u001b[0mz_star\u001b[0m\u001b[0;34m[\u001b[0m\u001b[0;34m-\u001b[0m\u001b[0;36m1\u001b[0m\u001b[0;34m]\u001b[0m\u001b[0;34m\u001b[0m\u001b[0;34m\u001b[0m\u001b[0m\n\u001b[0m\u001b[1;32m     25\u001b[0m         \u001b[0mnstep\u001b[0m\u001b[0;34m[\u001b[0m\u001b[0;36m0\u001b[0m\u001b[0;34m]\u001b[0m \u001b[0;34m=\u001b[0m \u001b[0mnp\u001b[0m\u001b[0;34m.\u001b[0m\u001b[0msum\u001b[0m\u001b[0;34m(\u001b[0m\u001b[0mlogs\u001b[0m\u001b[0;34m[\u001b[0m\u001b[0;36m0\u001b[0m\u001b[0;34m]\u001b[0m\u001b[0;34m)\u001b[0m\u001b[0;34m\u001b[0m\u001b[0;34m\u001b[0m\u001b[0m\n\u001b[1;32m     26\u001b[0m         \u001b[0;32mif\u001b[0m \u001b[0mt\u001b[0m \u001b[0;34m>=\u001b[0m \u001b[0;36m1\u001b[0m\u001b[0;34m:\u001b[0m\u001b[0;34m\u001b[0m\u001b[0;34m\u001b[0m\u001b[0m\n",
            "\u001b[0;31mTypeError\u001b[0m: 'NoneType' object is not subscriptable"
          ]
        }
      ]
    }
  ]
}