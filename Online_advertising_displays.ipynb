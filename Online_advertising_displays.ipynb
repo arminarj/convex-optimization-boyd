{
  "nbformat": 4,
  "nbformat_minor": 0,
  "metadata": {
    "colab": {
      "name": "Online advertising displays.ipynb",
      "provenance": [],
      "collapsed_sections": [],
      "authorship_tag": "ABX9TyMNkeiyWo63Pt7PY8zYX2So",
      "include_colab_link": true
    },
    "kernelspec": {
      "name": "python3",
      "display_name": "Python 3"
    }
  },
  "cells": [
    {
      "cell_type": "markdown",
      "metadata": {
        "id": "view-in-github",
        "colab_type": "text"
      },
      "source": [
        "<a href=\"https://colab.research.google.com/github/arminarj/convex-optimization-boyd/blob/master/Online_advertising_displays.ipynb\" target=\"_parent\"><img src=\"https://colab.research.google.com/assets/colab-badge.svg\" alt=\"Open In Colab\"/></a>"
      ]
    },
    {
      "cell_type": "code",
      "metadata": {
        "id": "5KU0LlUjYFB9",
        "colab_type": "code",
        "outputId": "12a2464b-c051-4fd5-f29a-654f6426fc88",
        "colab": {
          "base_uri": "https://localhost:8080/",
          "height": 134
        }
      },
      "source": [
        "!pip install cvxpy==1.1.0a4 -q\n",
        "!pip install diffcp -q"
      ],
      "execution_count": 0,
      "outputs": [
        {
          "output_type": "stream",
          "text": [
            "\u001b[?25l\r\u001b[K     |▎                               | 10kB 24.1MB/s eta 0:00:01\r\u001b[K     |▋                               | 20kB 6.5MB/s eta 0:00:01\r\u001b[K     |█                               | 30kB 7.2MB/s eta 0:00:01\r\u001b[K     |█▎                              | 40kB 9.1MB/s eta 0:00:01\r\u001b[K     |█▋                              | 51kB 7.0MB/s eta 0:00:01\r\u001b[K     |██                              | 61kB 7.9MB/s eta 0:00:01\r\u001b[K     |██▎                             | 71kB 8.3MB/s eta 0:00:01\r\u001b[K     |██▋                             | 81kB 8.0MB/s eta 0:00:01\r\u001b[K     |███                             | 92kB 8.8MB/s eta 0:00:01\r\u001b[K     |███▎                            | 102kB 9.1MB/s eta 0:00:01\r\u001b[K     |███▋                            | 112kB 9.1MB/s eta 0:00:01\r\u001b[K     |████                            | 122kB 9.1MB/s eta 0:00:01\r\u001b[K     |████▎                           | 133kB 9.1MB/s eta 0:00:01\r\u001b[K     |████▋                           | 143kB 9.1MB/s eta 0:00:01\r\u001b[K     |█████                           | 153kB 9.1MB/s eta 0:00:01\r\u001b[K     |█████▎                          | 163kB 9.1MB/s eta 0:00:01\r\u001b[K     |█████▋                          | 174kB 9.1MB/s eta 0:00:01\r\u001b[K     |██████                          | 184kB 9.1MB/s eta 0:00:01\r\u001b[K     |██████▎                         | 194kB 9.1MB/s eta 0:00:01\r\u001b[K     |██████▋                         | 204kB 9.1MB/s eta 0:00:01\r\u001b[K     |███████                         | 215kB 9.1MB/s eta 0:00:01\r\u001b[K     |███████▎                        | 225kB 9.1MB/s eta 0:00:01\r\u001b[K     |███████▋                        | 235kB 9.1MB/s eta 0:00:01\r\u001b[K     |████████                        | 245kB 9.1MB/s eta 0:00:01\r\u001b[K     |████████▎                       | 256kB 9.1MB/s eta 0:00:01\r\u001b[K     |████████▋                       | 266kB 9.1MB/s eta 0:00:01\r\u001b[K     |█████████                       | 276kB 9.1MB/s eta 0:00:01\r\u001b[K     |█████████▎                      | 286kB 9.1MB/s eta 0:00:01\r\u001b[K     |█████████▋                      | 296kB 9.1MB/s eta 0:00:01\r\u001b[K     |██████████                      | 307kB 9.1MB/s eta 0:00:01\r\u001b[K     |██████████▎                     | 317kB 9.1MB/s eta 0:00:01\r\u001b[K     |██████████▋                     | 327kB 9.1MB/s eta 0:00:01\r\u001b[K     |███████████                     | 337kB 9.1MB/s eta 0:00:01\r\u001b[K     |███████████▎                    | 348kB 9.1MB/s eta 0:00:01\r\u001b[K     |███████████▋                    | 358kB 9.1MB/s eta 0:00:01\r\u001b[K     |████████████                    | 368kB 9.1MB/s eta 0:00:01\r\u001b[K     |████████████▎                   | 378kB 9.1MB/s eta 0:00:01\r\u001b[K     |████████████▋                   | 389kB 9.1MB/s eta 0:00:01\r\u001b[K     |█████████████                   | 399kB 9.1MB/s eta 0:00:01\r\u001b[K     |█████████████▎                  | 409kB 9.1MB/s eta 0:00:01\r\u001b[K     |█████████████▋                  | 419kB 9.1MB/s eta 0:00:01\r\u001b[K     |██████████████                  | 430kB 9.1MB/s eta 0:00:01\r\u001b[K     |██████████████▎                 | 440kB 9.1MB/s eta 0:00:01\r\u001b[K     |██████████████▋                 | 450kB 9.1MB/s eta 0:00:01\r\u001b[K     |███████████████                 | 460kB 9.1MB/s eta 0:00:01\r\u001b[K     |███████████████▎                | 471kB 9.1MB/s eta 0:00:01\r\u001b[K     |███████████████▋                | 481kB 9.1MB/s eta 0:00:01\r\u001b[K     |████████████████                | 491kB 9.1MB/s eta 0:00:01\r\u001b[K     |████████████████▎               | 501kB 9.1MB/s eta 0:00:01\r\u001b[K     |████████████████▋               | 512kB 9.1MB/s eta 0:00:01\r\u001b[K     |█████████████████               | 522kB 9.1MB/s eta 0:00:01\r\u001b[K     |█████████████████▎              | 532kB 9.1MB/s eta 0:00:01\r\u001b[K     |█████████████████▋              | 542kB 9.1MB/s eta 0:00:01\r\u001b[K     |██████████████████              | 552kB 9.1MB/s eta 0:00:01\r\u001b[K     |██████████████████▎             | 563kB 9.1MB/s eta 0:00:01\r\u001b[K     |██████████████████▌             | 573kB 9.1MB/s eta 0:00:01\r\u001b[K     |██████████████████▉             | 583kB 9.1MB/s eta 0:00:01\r\u001b[K     |███████████████████▏            | 593kB 9.1MB/s eta 0:00:01\r\u001b[K     |███████████████████▌            | 604kB 9.1MB/s eta 0:00:01\r\u001b[K     |███████████████████▉            | 614kB 9.1MB/s eta 0:00:01\r\u001b[K     |████████████████████▏           | 624kB 9.1MB/s eta 0:00:01\r\u001b[K     |████████████████████▌           | 634kB 9.1MB/s eta 0:00:01\r\u001b[K     |████████████████████▉           | 645kB 9.1MB/s eta 0:00:01\r\u001b[K     |█████████████████████▏          | 655kB 9.1MB/s eta 0:00:01\r\u001b[K     |█████████████████████▌          | 665kB 9.1MB/s eta 0:00:01\r\u001b[K     |█████████████████████▉          | 675kB 9.1MB/s eta 0:00:01\r\u001b[K     |██████████████████████▏         | 686kB 9.1MB/s eta 0:00:01\r\u001b[K     |██████████████████████▌         | 696kB 9.1MB/s eta 0:00:01\r\u001b[K     |██████████████████████▉         | 706kB 9.1MB/s eta 0:00:01\r\u001b[K     |███████████████████████▏        | 716kB 9.1MB/s eta 0:00:01\r\u001b[K     |███████████████████████▌        | 727kB 9.1MB/s eta 0:00:01\r\u001b[K     |███████████████████████▉        | 737kB 9.1MB/s eta 0:00:01\r\u001b[K     |████████████████████████▏       | 747kB 9.1MB/s eta 0:00:01\r\u001b[K     |████████████████████████▌       | 757kB 9.1MB/s eta 0:00:01\r\u001b[K     |████████████████████████▉       | 768kB 9.1MB/s eta 0:00:01\r\u001b[K     |█████████████████████████▏      | 778kB 9.1MB/s eta 0:00:01\r\u001b[K     |█████████████████████████▌      | 788kB 9.1MB/s eta 0:00:01\r\u001b[K     |█████████████████████████▉      | 798kB 9.1MB/s eta 0:00:01\r\u001b[K     |██████████████████████████▏     | 808kB 9.1MB/s eta 0:00:01\r\u001b[K     |██████████████████████████▌     | 819kB 9.1MB/s eta 0:00:01\r\u001b[K     |██████████████████████████▉     | 829kB 9.1MB/s eta 0:00:01\r\u001b[K     |███████████████████████████▏    | 839kB 9.1MB/s eta 0:00:01\r\u001b[K     |███████████████████████████▌    | 849kB 9.1MB/s eta 0:00:01\r\u001b[K     |███████████████████████████▉    | 860kB 9.1MB/s eta 0:00:01\r\u001b[K     |████████████████████████████▏   | 870kB 9.1MB/s eta 0:00:01\r\u001b[K     |████████████████████████████▌   | 880kB 9.1MB/s eta 0:00:01\r\u001b[K     |████████████████████████████▉   | 890kB 9.1MB/s eta 0:00:01\r\u001b[K     |█████████████████████████████▏  | 901kB 9.1MB/s eta 0:00:01\r\u001b[K     |█████████████████████████████▌  | 911kB 9.1MB/s eta 0:00:01\r\u001b[K     |█████████████████████████████▉  | 921kB 9.1MB/s eta 0:00:01\r\u001b[K     |██████████████████████████████▏ | 931kB 9.1MB/s eta 0:00:01\r\u001b[K     |██████████████████████████████▌ | 942kB 9.1MB/s eta 0:00:01\r\u001b[K     |██████████████████████████████▉ | 952kB 9.1MB/s eta 0:00:01\r\u001b[K     |███████████████████████████████▏| 962kB 9.1MB/s eta 0:00:01\r\u001b[K     |███████████████████████████████▌| 972kB 9.1MB/s eta 0:00:01\r\u001b[K     |███████████████████████████████▉| 983kB 9.1MB/s eta 0:00:01\r\u001b[K     |████████████████████████████████| 993kB 9.1MB/s \n",
            "\u001b[?25h  Installing build dependencies ... \u001b[?25l\u001b[?25hdone\n",
            "  Getting requirements to build wheel ... \u001b[?25l\u001b[?25hdone\n",
            "    Preparing wheel metadata ... \u001b[?25l\u001b[?25hdone\n",
            "  Building wheel for cvxpy (PEP 517) ... \u001b[?25l\u001b[?25hdone\n",
            "\u001b[K     |████████████████████████████████| 2.2MB 96kB/s \n",
            "\u001b[?25h  Building wheel for diffcp (setup.py) ... \u001b[?25l\u001b[?25hdone\n"
          ],
          "name": "stdout"
        }
      ]
    },
    {
      "cell_type": "markdown",
      "metadata": {
        "id": "OExP5xeec53n",
        "colab_type": "text"
      },
      "source": [
        "Part A:"
      ]
    },
    {
      "cell_type": "code",
      "metadata": {
        "id": "3zGrNAUnYImz",
        "colab_type": "code",
        "colab": {}
      },
      "source": [
        "import cvxpy as cvx\n",
        "import numpy as np\n",
        "\n",
        "np.random.seed(0)\n",
        "n = 100   #number of ads\n",
        "m = 30    #number of contracts\n",
        "T = 60    #number of periods\n",
        "\n",
        "#number of impressions in each period\n",
        "I = 10*np.random.rand(T, 1); I = np.asmatrix(I)\n",
        "#revenue rate for each period and ad\n",
        "R = np.random.rand(n, T); R = np.asmatrix(R)\n",
        "#contract target number of impressions\n",
        "q = T/float(n)*50*np.random.rand(m, 1); q = np.asmatrix(q)\n",
        "#penalty rate for shortfall\n",
        "p = np.random.rand(m, 1); p = np.asmatrix(p)\n",
        "#one column per contract. 1's at the periods to be displayed\n",
        "Tcontr = np.matrix(np.random.rand(T, m)>.8, dtype = float)\n",
        "Acontr = np.zeros((n, m)); Acont = np.asmatrix(Acontr)\n",
        "for i in range(n):\n",
        "    contract=int(np.floor(m*np.random.rand(1)))\n",
        "    #one column per contract. 1's at the ads to be displayed\n",
        "    Acontr[i,contract]=1\n"
      ],
      "execution_count": 0,
      "outputs": []
    },
    {
      "cell_type": "code",
      "metadata": {
        "id": "eUdTkxKOdEhZ",
        "colab_type": "code",
        "outputId": "ea90fff5-c263-4ae4-c280-13f669ebd945",
        "colab": {
          "base_uri": "https://localhost:8080/",
          "height": 101
        }
      },
      "source": [
        "import cvxpy as cp\n",
        "\n",
        "N = cp.Variable((T, n))\n",
        "\n",
        "N_sum = cp.diag(Tcontr.T @ N @ Acontr)\n",
        "S = cp.pos( q[0] - N_sum)\n",
        "penalty = S @ p\n",
        "\n",
        "revenue = cp.sum(cp.multiply(R ,N.T ))\n",
        "\n",
        "obj_function =  revenue - penalty\n",
        "\n",
        "obj = cp.Maximize(obj_function)\n",
        "\n",
        "constraints  = [\n",
        "                0 <= N,\n",
        "                cp.sum(N, axis=1) == I[0,:],\n",
        "]\n",
        "\n",
        "prob = cp.Problem(obj, constraints)\n",
        "\n",
        "print(\"prob is DCP:\", prob.is_dcp())\n",
        "\n",
        "try:\n",
        "    prob.solve(requires_grad=True)\n",
        "    print(\"status:  \", prob.status)\n",
        "    print(\"optimal value:   \", prob.value)\n",
        "    print(\"revenue values:  \", revenue.value)\n",
        "    print(\"Penalty values:  \", penalty.value)\n",
        "\n",
        "except Exception as e:\n",
        "    print(e)\n"
      ],
      "execution_count": 0,
      "outputs": [
        {
          "output_type": "stream",
          "text": [
            "prob is DCP: True\n",
            "status:   optimal\n",
            "optimal value:    135.7002514948442\n",
            "revenue values:   282.85717086477376\n",
            "Penalty values:   [[147.15928987]]\n"
          ],
          "name": "stdout"
        }
      ]
    },
    {
      "cell_type": "code",
      "metadata": {
        "id": "UnX2V12SwTD_",
        "colab_type": "code",
        "colab": {}
      },
      "source": [
        ""
      ],
      "execution_count": 0,
      "outputs": []
    }
  ]
}