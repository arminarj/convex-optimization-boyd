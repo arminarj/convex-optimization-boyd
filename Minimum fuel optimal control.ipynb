{
  "nbformat": 4,
  "nbformat_minor": 0,
  "metadata": {
    "colab": {
      "name": "HW#4.ipynb",
      "provenance": [],
      "collapsed_sections": [],
      "authorship_tag": "ABX9TyMR4VmyiWX1AntmCLOsW+nd",
      "include_colab_link": true
    },
    "kernelspec": {
      "name": "python3",
      "display_name": "Python 3"
    }
  },
  "cells": [
    {
      "cell_type": "markdown",
      "metadata": {
        "id": "view-in-github",
        "colab_type": "text"
      },
      "source": [
        "<a href=\"https://colab.research.google.com/github/arminarj/convex-optimization-boyd/blob/master/Minimum%20fuel%20optimal%20control.ipynb\" target=\"_parent\"><img src=\"https://colab.research.google.com/assets/colab-badge.svg\" alt=\"Open In Colab\"/></a>"
      ]
    },
    {
      "cell_type": "markdown",
      "metadata": {
        "id": "sXlfjP5EabsZ",
        "colab_type": "text"
      },
      "source": [
        "## Minimum fuel optimal control.\n",
        "\n",
        "CVXPY\n",
        "\n"
      ]
    },
    {
      "cell_type": "code",
      "metadata": {
        "id": "uP956BMmaXsL",
        "colab_type": "code",
        "colab": {}
      },
      "source": [
        "import cvxpy as cp\n",
        "import numpy as np"
      ],
      "execution_count": 0,
      "outputs": []
    },
    {
      "cell_type": "code",
      "metadata": {
        "id": "5qhQvQLabuiD",
        "colab_type": "code",
        "colab": {
          "base_uri": "https://localhost:8080/",
          "height": 67
        },
        "outputId": "b3987a43-965f-4804-9540-69ab19f628a6"
      },
      "source": [
        "n=3; # state dimension\n",
        "N=30; # time horizon\n",
        "A=np.array([[-1, 0.4, 0.8], [1, 0, 0], [0, 1, 0]])\n",
        "b=np.array([1, 0, 0.3]).reshape(3, 1)\n",
        "\n",
        "x0 = np.zeros((n,1)).squeeze()\n",
        "xdes = np.array([7, 2, -6])\n",
        "\n",
        "X = cp.Variable((n,N+1))\n",
        "u = cp.Variable((1,N))\n",
        "\n",
        "# DCP problems.\n",
        "obj = cp.Minimize(cp.sum(cp.maximum(cp.abs(u), 2 * cp.abs(u)-1))) # sum(max(abs(u),2*abs(u)-1))\n",
        "\n",
        "constraints =  [X[:,1:N+1] == A@X[:,:N]+b@u,\n",
        "                X[:,0] == x0,\n",
        "                X[:,N] == xdes]\n",
        "\n",
        "prob = cp.Problem(obj, constraints)\n",
        "\n",
        "print(\"prob is DCP:\", prob.is_dcp())\n",
        "\n",
        "try:\n",
        "    prob.solve()\n",
        "except Exception as e:\n",
        "    print(e)\n",
        "print(\"status:\", prob.status)\n",
        "print(\"optimal value\", prob.value)\n",
        "# print(\"optimal var\", X.value, u.value)"
      ],
      "execution_count": 151,
      "outputs": [
        {
          "output_type": "stream",
          "text": [
            "prob is DCP: True\n",
            "status: optimal\n",
            "optimal value 17.323567851898527\n"
          ],
          "name": "stdout"
        }
      ]
    },
    {
      "cell_type": "code",
      "metadata": {
        "id": "QUvjlx_2nUV3",
        "colab_type": "code",
        "colab": {
          "base_uri": "https://localhost:8080/",
          "height": 279
        },
        "outputId": "357b6b6f-4379-4bf3-8781-e1bc18b2dfb9"
      },
      "source": [
        "import matplotlib.pyplot as plt\n",
        "\n",
        "t = np.array(range(N))\n",
        "u_plt = u.value\n",
        "plt.step(t, u_plt[0,:])\n",
        "plt.xlabel(\"t\")\n",
        "plt.ylabel(\"u\")\n",
        "plt.show()"
      ],
      "execution_count": 152,
      "outputs": [
        {
          "output_type": "display_data",
          "data": {
            "image/png": "[encoded data removed]",
            "text/plain": [
              "<Figure size 432x288 with 1 Axes>"
            ]
          },
          "metadata": {
            "tags": [],
            "needs_background": "light"
          }
        }
      ]
    },
    {
      "cell_type": "code",
      "metadata": {
        "id": "k-B1FxCLqmGS",
        "colab_type": "code",
        "colab": {
          "base_uri": "https://localhost:8080/",
          "height": 295
        },
        "outputId": "4c1cfb9d-26bf-444e-ed1c-56fb5185a47b"
      },
      "source": [
        "# import matplotlib.pyplot as plt\n",
        "\n",
        "t = np.array(range(N+1))\n",
        "plt.figure()\n",
        "for i in range(3):\n",
        "    plt.step(t, X.value[i, :])\n",
        "plt.title('X moving')\n",
        "plt.xlabel(f\"X\")\n",
        "plt.ylabel(\"u\")\n",
        "plt.show()"
      ],
      "execution_count": 160,
      "outputs": [
        {
          "output_type": "display_data",
          "data": {
            "image/png": "[encoded data removed]",
            "text/plain": [
              "<Figure size 432x288 with 1 Axes>"
            ]
          },
          "metadata": {
            "tags": [],
            "needs_background": "light"
          }
        }
      ]
    }
  ]
}